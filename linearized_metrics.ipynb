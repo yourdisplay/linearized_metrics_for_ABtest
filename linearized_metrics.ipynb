{
 "cells": [
  {
   "cell_type": "markdown",
   "metadata": {},
   "source": [
    "Данные:\n",
    "- Проанализируйте тест между группами 0 и 3 по метрике линеаризованных лайков. Видно ли отличие? Стало ли 𝑝−𝑣𝑎𝑙𝑢𝑒 меньше?\n",
    "- Проанализируйте тест между группами 1 и 2 по метрике линеаризованных лайков. Видно ли отличие? Стало ли 𝑝−𝑣𝑎𝑙𝑢𝑒 меньше?"
   ]
  },
  {
   "cell_type": "code",
   "execution_count": 1,
   "metadata": {},
   "outputs": [],
   "source": [
    "import pandas as pd\n",
    "import pandahouse as ph\n",
    "import numpy as np\n",
    "import seaborn as sns\n",
    "import matplotlib.pyplot as plt\n",
    "from scipy import stats"
   ]
  },
  {
   "cell_type": "code",
   "execution_count": 2,
   "metadata": {},
   "outputs": [],
   "source": [
    "connection = {'host': '***',\n",
    "                      'database':'***',\n",
    "                      'user':'***', \n",
    "                      'password':'****'\n",
    "                     }"
   ]
  },
  {
   "cell_type": "code",
   "execution_count": 3,
   "metadata": {},
   "outputs": [],
   "source": [
    "query_group_0 = \"\"\"\n",
    " SELECT distinct user_id, sum(action = 'like') as likes,\n",
    "    sum(action = 'view') as views,\n",
    "    likes/views as ctr\n",
    " FROM {db}.feed_actions \n",
    " WHERE toDate(time) >= '2023-01-01' and  toDate(time) <= '2023-01-07' \n",
    "     and exp_group in (0)\n",
    " GROUP BY user_id\n",
    " \"\"\"\n",
    "\n",
    "query_group_1 = \"\"\"\n",
    " SELECT distinct user_id, sum(action = 'like') as likes,\n",
    "    sum(action = 'view') as views,\n",
    "    likes/views as ctr\n",
    " FROM {db}.feed_actions \n",
    " WHERE toDate(time) >= '2023-01-01' and  toDate(time) <= '2023-01-07' \n",
    "     and exp_group in (1)\n",
    " GROUP BY user_id\n",
    " \"\"\"\n",
    "\n",
    "query_group_2 = \"\"\"\n",
    " SELECT distinct user_id, sum(action = 'like') as likes,\n",
    "    sum(action = 'view') as views,\n",
    "    likes/views as ctr\n",
    " FROM {db}.feed_actions \n",
    " WHERE toDate(time) >= '2023-01-01' and  toDate(time) <= '2023-01-07' \n",
    "     and exp_group in (2)\n",
    " GROUP BY user_id\n",
    " \"\"\"\n",
    "\n",
    "query_group_3 = \"\"\"\n",
    " SELECT distinct user_id, sum(action = 'like') as likes,\n",
    "    sum(action = 'view') as views,\n",
    "    likes/views as ctr\n",
    " FROM {db}.feed_actions \n",
    " WHERE toDate(time) >= '2023-01-01' and  toDate(time) <= '2023-01-07' \n",
    "     and exp_group in (3)\n",
    " GROUP BY user_id\n",
    " \"\"\"\n",
    "\n",
    "df_group_0 = ph.read_clickhouse(query_group_0, connection=connection)\n",
    "df_group_1 = ph.read_clickhouse(query_group_1, connection=connection)\n",
    "df_group_2 = ph.read_clickhouse(query_group_2, connection=connection)\n",
    "df_group_3 = ph.read_clickhouse(query_group_3, connection=connection)"
   ]
  },
  {
   "cell_type": "code",
   "execution_count": 6,
   "metadata": {},
   "outputs": [],
   "source": [
    "def CTR_control(likes, views):\n",
    "    CTRcontrol = sum(likes) / sum (views)\n",
    "    return CTRcontrol\n",
    "\n",
    "def lin_CTR(CTRcontrol, likes, views):\n",
    "    lin_likes = likes - CTRcontrol * views\n",
    "    return lin_likes"
   ]
  },
  {
   "cell_type": "markdown",
   "metadata": {},
   "source": [
    "#### Исследование групп 0 и 3"
   ]
  },
  {
   "cell_type": "code",
   "execution_count": 22,
   "metadata": {},
   "outputs": [],
   "source": [
    "CTR_control_g0 = CTR_control(df_group_0.likes, df_group_0.views)"
   ]
  },
  {
   "cell_type": "code",
   "execution_count": 27,
   "metadata": {},
   "outputs": [],
   "source": [
    "lin_CTR_g3 = lin_CTR(CTR_control_g0, df_group_3.likes, df_group_3.views)\n",
    "lin_CTR_g0 = lin_CTR(CTR_control_g0, df_group_0.likes, df_group_0.views)"
   ]
  },
  {
   "cell_type": "code",
   "execution_count": 49,
   "metadata": {},
   "outputs": [
    {
     "data": {
      "text/plain": [
       "<matplotlib.legend.Legend at 0x7f7a512d9f60>"
      ]
     },
     "execution_count": 49,
     "metadata": {},
     "output_type": "execute_result"
    },
    {
     "data": {
      "image/png": "[encoded data removed]",
      "text/plain": [
       "<Figure size 1080x360 with 1 Axes>"
      ]
     },
     "metadata": {
      "needs_background": "light"
     },
     "output_type": "display_data"
    }
   ],
   "source": [
    "plt.figure(figsize=(15,5))\n",
    "plt.title('Визуальное сравнение данных групп 0 и 3')\n",
    "plt.xlabel('Линеаризованная CTR')\n",
    "sns.histplot(lin_CTR_g3)\n",
    "sns.histplot(lin_CTR_g0, label='group_0(контрольная)', color='red')\n",
    "plt.legend(loc=\"best\")\n"
   ]
  },
  {
   "cell_type": "code",
   "execution_count": 57,
   "metadata": {},
   "outputs": [
    {
     "name": "stdout",
     "output_type": "stream",
     "text": [
      "P-value t-теста для линеаризованных данных: 5.4914249479690016e-52\n",
      "P-value t-теста для исходных данных: 1.055849414662529e-43\n"
     ]
    }
   ],
   "source": [
    "print('P-value t-теста для линеаризованных данных: {0}'.format(stats.ttest_ind(lin_CTR_g3, lin_CTR_g0, equal_var=False).pvalue))\n",
    "print('P-value t-теста для исходных данных: {0}'.format(stats.ttest_ind(df_group_3.ctr, df_group_0.ctr, equal_var=False).pvalue))"
   ]
  },
  {
   "cell_type": "markdown",
   "metadata": {},
   "source": [
    "Вывод:\n",
    "- Значение p-value стало меньше. "
   ]
  },
  {
   "cell_type": "markdown",
   "metadata": {},
   "source": [
    "#### Исследование групп 1 и 2"
   ]
  },
  {
   "cell_type": "code",
   "execution_count": 37,
   "metadata": {},
   "outputs": [],
   "source": [
    "CTR_control_g1 = CTR_control(df_group_1.likes, df_group_1.views)"
   ]
  },
  {
   "cell_type": "code",
   "execution_count": 38,
   "metadata": {},
   "outputs": [],
   "source": [
    "lin_CTR_g1 = lin_CTR(CTR_control_g1, df_group_1.likes, df_group_1.views)\n",
    "lin_CTR_g2 = lin_CTR(CTR_control_g1, df_group_2.likes, df_group_2.views)"
   ]
  },
  {
   "cell_type": "code",
   "execution_count": 50,
   "metadata": {},
   "outputs": [
    {
     "data": {
      "text/plain": [
       "<matplotlib.legend.Legend at 0x7f7a504850b8>"
      ]
     },
     "execution_count": 50,
     "metadata": {},
     "output_type": "execute_result"
    },
    {
     "data": {
      "image/png": "[encoded data removed]",
      "text/plain": [
       "<Figure size 1080x360 with 1 Axes>"
      ]
     },
     "metadata": {
      "needs_background": "light"
     },
     "output_type": "display_data"
    }
   ],
   "source": [
    "plt.figure(figsize=(15,5))\n",
    "plt.title('Визуальное сравнение данных групп 1 и 2')\n",
    "plt.xlabel('Линеаризованная CTR')\n",
    "sns.histplot(lin_CTR_g2)\n",
    "sns.histplot(lin_CTR_g1, label='group_1(контрольная)', color='red')\n",
    "plt.legend(loc=\"best\")"
   ]
  },
  {
   "cell_type": "code",
   "execution_count": 58,
   "metadata": {},
   "outputs": [
    {
     "name": "stdout",
     "output_type": "stream",
     "text": [
      "P-value t-теста для линеаризованных данных: 9.439432187037712e-10\n",
      "P-value t-теста для исходных данных: 0.47806231308750413\n"
     ]
    }
   ],
   "source": [
    "print('P-value t-теста для линеаризованных данных: {0}'.format(stats.ttest_ind(lin_CTR_g1, lin_CTR_g2, equal_var=False).pvalue))\n",
    "print('P-value t-теста для исходных данных: {0}'.format(stats.ttest_ind(df_group_1.ctr, df_group_0.ctr, equal_var=False).pvalue))"
   ]
  },
  {
   "cell_type": "markdown",
   "metadata": {},
   "source": [
    "Вывод:\n",
    "- значение p-value стало меньше (<< 0.05)\n",
    "- разница между данными группы 1 и 2 стала статистически значимой. Вероятность получить такие же или еще более различия - мала, в предположении отсутствия разницы между данными."
   ]
  }
 ],
 "metadata": {
  "kernelspec": {
   "display_name": "Python 3",
   "language": "python",
   "name": "python3"
  },
  "language_info": {
   "codemirror_mode": {
    "name": "ipython",
    "version": 3
   },
   "file_extension": ".py",
   "mimetype": "text/x-python",
   "name": "python",
   "nbconvert_exporter": "python",
   "pygments_lexer": "ipython3",
   "version": "3.7.3"
  }
 },
 "nbformat": 4,
 "nbformat_minor": 4
}